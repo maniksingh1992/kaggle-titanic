{
 "cells": [
  {
   "cell_type": "code",
   "execution_count": 1,
   "metadata": {},
   "outputs": [],
   "source": [
    "# import libs\n",
    "import pandas as pd\n",
    "import numpy as np\n",
    "import seaborn as sns\n",
    "\n",
    "from xgboost import XGBClassifier\n",
    "from sklearn.metrics import accuracy_score\n",
    "from sklearn.model_selection import KFold\n",
    "from sklearn.model_selection import cross_val_score"
   ]
  },
  {
   "cell_type": "code",
   "execution_count": 2,
   "metadata": {},
   "outputs": [],
   "source": [
    "# Load in the train and test datasets\n",
    "def get_file_location(filename):\n",
    "    return \"./data/{}\".format(filename)\n",
    "\n",
    "train = pd.read_csv(get_file_location(\"train.csv\"))\n",
    "test = pd.read_csv(get_file_location(\"test.csv\"))"
   ]
  },
  {
   "cell_type": "code",
   "execution_count": 3,
   "metadata": {},
   "outputs": [],
   "source": [
    "def create_feature_title(df):\n",
    "    titles = {\"Mr\": 1, \"Miss\": 2, \"Mrs\": 3, \"Master\": 4}\n",
    "    df[\"Title\"] = df[\"Name\"].str.extract(\" ([A-Za-z]+)\\.\", expand=False)\n",
    "    df[\"Title\"] = df[\"Title\"].replace(\"Mlle\", \"Miss\")\n",
    "    df[\"Title\"] = df[\"Title\"].replace(\"Ms\", \"Miss\")\n",
    "    df[\"Title\"] = df[\"Title\"].replace(\"Mme\", \"Mrs\")\n",
    "    df[\"Title\"] = df[\"Title\"].map(lambda title: titles[title] if title in titles else 5).astype(int)\n",
    "    return df\n",
    "\n",
    "\n",
    "def convert_feature_age(df):\n",
    "    df.loc[ df['Age'] <= 16, 'Age'] = 0\n",
    "    df.loc[(df['Age'] > 16) & (df['Age'] <= 32), 'Age'] = 1\n",
    "    df.loc[(df['Age'] > 32) & (df['Age'] <= 48), 'Age'] = 2\n",
    "    df.loc[(df['Age'] > 48) & (df['Age'] <= 64), 'Age'] = 3\n",
    "    df.loc[ df['Age'] > 64, 'Age'] = 4\n",
    "    df[\"Age\"] = df[\"Age\"].astype(int)\n",
    "    return df\n",
    "\n",
    "\n",
    "def convert_feature_fare(df):\n",
    "    df[\"Fare\"] = df[\"Fare\"].fillna(df[\"Fare\"].mean())\n",
    "    df.loc[ df['Fare'] <= 7.91, 'Fare'] = 0\n",
    "    df.loc[(df['Fare'] > 7.91) & (df['Fare'] <= 14.454), 'Fare'] = 1\n",
    "    df.loc[(df['Fare'] > 14.454) & (df['Fare'] <= 31), 'Fare']   = 2\n",
    "    df.loc[(df['Fare'] > 31) & (df['Fare'] <= 99), 'Fare']       = 3\n",
    "    df.loc[(df['Fare'] > 99) & (df['Fare'] <= 250), 'Fare']      = 4\n",
    "    df.loc[ df['Fare'] > 250, 'Fare'] = 5\n",
    "    df[\"Fare\"] = df[\"Fare\"].astype(int)\n",
    "    return df\n",
    "\n",
    "\n",
    "def apply_feature_engineering(df):\n",
    "    df[\"FamilySize\"] = df[\"SibSp\"] + df[\"Parch\"] + 1   \n",
    "    df[\"IsAlone\"] = np.where(df[\"FamilySize\"] == 1, 1, 0)\n",
    "    df[\"Sex\"] = df[\"Sex\"].map({\"male\": 0, \"female\": 1}).astype(int)\n",
    "    df[\"Embarked\"] = df[\"Embarked\"].map({\"S\": 0, \"C\": 1, \"Q\": 2}).astype(int)\n",
    "    df = create_feature_title(df)\n",
    "    df = convert_feature_age(df)    \n",
    "    df = convert_feature_fare(df)    \n",
    "    df = df.drop([\"Cabin\", \"PassengerId\", \"Name\", \"Ticket\", \"Parch\", \"SibSp\"], axis=1)\n",
    "    return df\n",
    "\n",
    "\n",
    "def fill_missing_embarked(df):\n",
    "    df[\"Embarked\"] = df[\"Embarked\"].fillna(df[\"Embarked\"].value_counts().idxmax())\n",
    "    return df\n",
    "\n",
    "\n",
    "def fill_missing_age(df):\n",
    "    mean_age = df[\"Age\"].mean()\n",
    "    std_age = df[\"Age\"].std()\n",
    "    null_age_count = df[\"Age\"].isnull().sum()\n",
    "    random_age = np.random.randint(mean_age-std_age, mean_age+std_age, size=null_age_count)\n",
    "    df.loc[df[\"Age\"].isnull(), \"Age\"] = random_age\n",
    "    return df\n",
    "\n",
    "\n",
    "def fill_missing_values(df):\n",
    "    df = fill_missing_embarked(df)\n",
    "    df = fill_missing_age(df)\n",
    "    return df"
   ]
  },
  {
   "cell_type": "code",
   "execution_count": 4,
   "metadata": {},
   "outputs": [],
   "source": [
    "# prepare data\n",
    "train = fill_missing_values(train)\n",
    "train = apply_feature_engineering(train)\n",
    "test = fill_missing_values(test)\n",
    "passenger_ids = test[\"PassengerId\"]\n",
    "test = apply_feature_engineering(test)"
   ]
  },
  {
   "cell_type": "code",
   "execution_count": null,
   "metadata": {
    "scrolled": true
   },
   "outputs": [],
   "source": [
    "# model\n",
    "y = train[\"Survived\"]\n",
    "X = train.drop([\"Survived\"], axis=1)\n",
    "model = XGBClassifier(n_estimators=1000, learning_rate=0.05)\n",
    "model.fit(X, y)"
   ]
  },
  {
   "cell_type": "code",
   "execution_count": null,
   "metadata": {},
   "outputs": [],
   "source": [
    "# test CV\n",
    "\n",
    "# kfold = KFold(n_splits=10, random_state=7)\n",
    "# results = cross_val_score(model, X, y, cv=kfold, n_jobs=-1)\n",
    "# print(\"Accuracy: %.2f%% (%.2f%%)\" % (results.mean()*100, results.std()*100))"
   ]
  },
  {
   "cell_type": "code",
   "execution_count": null,
   "metadata": {},
   "outputs": [],
   "source": [
    "predictions = model.predict(test)\n",
    "submission = pd.DataFrame({\"PassengerId\": passenger_ids,\n",
    "                           \"Survived\": predictions })\n",
    "submission.to_csv(get_file_location(\"gender_submission.csv\"), index=False)"
   ]
  }
 ],
 "metadata": {
  "kernelspec": {
   "display_name": "Python 3",
   "language": "python",
   "name": "python3"
  },
  "language_info": {
   "codemirror_mode": {
    "name": "ipython",
    "version": 3
   },
   "file_extension": ".py",
   "mimetype": "text/x-python",
   "name": "python",
   "nbconvert_exporter": "python",
   "pygments_lexer": "ipython3",
   "version": "3.6.4"
  }
 },
 "nbformat": 4,
 "nbformat_minor": 2
}
